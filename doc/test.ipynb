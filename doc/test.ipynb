{
 "cells": [
  {
   "cell_type": "code",
   "execution_count": null,
   "metadata": {},
   "outputs": [],
   "source": [
    "import numba\n",
    "import numpy\n",
    "import cython\n",
    "import numexpr"
   ]
  },
  {
   "cell_type": "code",
   "execution_count": null,
   "metadata": {},
   "outputs": [],
   "source": [
    "%load_ext line_profiler\n",
    "%load_ext Cython"
   ]
  },
  {
   "cell_type": "code",
   "execution_count": null,
   "metadata": {
    "collapsed": true
   },
   "outputs": [],
   "source": [
    "__all__ = [ \"gamma_matrix\", \"gamma_matrix_pass\"]\n",
    "\n",
    "\n",
    "import numpy as np\n",
    "\n",
    "\n",
    "def gamma_matrix(rm, tm, dta=1.0, dd=0.05):\n",
    "    '''Compute matrix of gammma indices.\n",
    "\n",
    "    :param rm: reference matrix (relative values assumed)\n",
    "    :param tm: tested matrix (relative values assumed)\n",
    "    :param dta: maximum distance-to-agreement (in voxels)\n",
    "    :param dd: maximum dose difference (absolute, not percent!)\n",
    "\n",
    "    :type rm: numpy.ndarray\n",
    "    :type tm: numpy.ndarray\n",
    "    :type dta: float\n",
    "    :type dd: float\n",
    "    :rtype: numpy.ndarray\n",
    "\n",
    "    It can be evaluated on matrices of any dimensionality.\n",
    "    '''\n",
    "    # Check validity of input\n",
    "    if rm.shape != tm.shape:\n",
    "        raise Exception(\"Cannot compute for matrices of different sizes.\")\n",
    "\n",
    "    # Result matrix\n",
    "    output = np.ndarray(rm.shape, dtype=np.float64)\n",
    "\n",
    "    # Help scaling variables\n",
    "    dta_scale = dta ** 2\n",
    "    dd_scale = dd ** 2\n",
    "\n",
    "    # Index matrices\n",
    "    indices = np.indices(rm.shape)\n",
    "\n",
    "    it = np.nditer(rm, (\"multi_index\",))\n",
    "    while not it.finished:\n",
    "        index = it.multi_index\n",
    "\n",
    "        # Dose difference to every point (squared)\n",
    "        dd2 = (tm - it.value) ** 2\n",
    "\n",
    "        # Distance to every point (squared)\n",
    "        dist2 = np.sum((indices - np.array(index).reshape(len(rm.shape),1,1,1)) ** 2, axis=0)\n",
    "\n",
    "        # Minimum of the sum\n",
    "        output[index] = np.sqrt(np.nanmin(dd2 / dd_scale + dist2 / dta_scale))\n",
    "        it.iternext()\n",
    "    return output\n",
    "\n",
    "\n",
    "def gamma_matrix_pass(rm, tm, dta=1.0, dd=0.05, ignore=lambda value: False):\n",
    "    '''Effectively check which points in a matrix pair pass gamma index test.\n",
    "\n",
    "    :param rm: reference matrix (relative values assumed)\n",
    "    :param tm: tested matrix (relative values assumed)\n",
    "    :param dta: maximum distance-to-agreement (in voxels)\n",
    "    :param dd: maximum dose difference\n",
    "    :param ignore: function called on dose in rm values\n",
    "        if it returns True, point is ignored (gammma <- np.nan)\n",
    "    :rtype: numpy.ndarray\n",
    "\n",
    "    It can be evaluated on matrices of any dimensionality.\n",
    "    Optimized in that only surrounding region that can possibly\n",
    "        pass dta criterion is checked for each point.\n",
    "    '''\n",
    "    # Check validity of input\n",
    "    if rm.shape != tm.shape:\n",
    "        raise Exception(\"Cannot compute for matrices of different sizes.\")\n",
    "\n",
    "    shape = rm.shape\n",
    "    ndim = rm.ndim\n",
    "\n",
    "    # Result matrix\n",
    "    output = np.ndarray(rm.shape, dtype=bool)\n",
    "\n",
    "    # Help scaling variables\n",
    "    dta_scale = dta ** 2\n",
    "    dd_scale = dd ** 2\n",
    "\n",
    "    # Index matrices\n",
    "    indices = np.indices(rm.shape)\n",
    "\n",
    "    # How many points (*2 + 1)\n",
    "    npoints = int(dta)\n",
    "\n",
    "    it = np.nditer(rm, (\"multi_index\",))\n",
    "    while not it.finished:\n",
    "        index = tuple(it.multi_index)\n",
    "\n",
    "        if ignore(it.value):\n",
    "            output[index] = np.nan\n",
    "            it.iternext()\n",
    "            continue\n",
    "\n",
    "        slices = [ slice(max(0, index[i] - npoints), min(shape[i], index[i] + npoints + 1)) for i in xrange(ndim) ]\n",
    "        subtm = tm[slices]\n",
    "\n",
    "        # Dose difference to every point (squared)\n",
    "        dd2 = (subtm - it.value) ** 2\n",
    "\n",
    "        # Distance to every point (squared)\n",
    "        dist2 = np.sum((indices[[slice(None, None)] + slices] - np.array(index).reshape(ndim,1,1,1)) ** 2, axis=0)\n",
    "\n",
    "        # Minimum of the sum\n",
    "        output[index] = np.sqrt(np.nanmin(dd2 / dd_scale + dist2 / dta_scale)) < 1.0\n",
    "        it.iternext()\n",
    "    return output"
   ]
  },
  {
   "cell_type": "code",
   "execution_count": null,
   "metadata": {
    "collapsed": true
   },
   "outputs": [],
   "source": [
    "arr1 = np.random?"
   ]
  },
  {
   "cell_type": "code",
   "execution_count": null,
   "metadata": {
    "collapsed": true
   },
   "outputs": [],
   "source": [
    "arr1 = np.random"
   ]
  },
  {
   "cell_type": "code",
   "execution_count": null,
   "metadata": {
    "collapsed": true
   },
   "outputs": [],
   "source": [
    "arr1 = np.random.rand(10, 10, 10)"
   ]
  },
  {
   "cell_type": "code",
   "execution_count": null,
   "metadata": {},
   "outputs": [],
   "source": [
    "arr2 = np.random.rand(10, 10, 10)"
   ]
  },
  {
   "cell_type": "code",
   "execution_count": null,
   "metadata": {},
   "outputs": [],
   "source": [
    "%lprun -f gamma_matrix gamma_matrix(arr1, arr2)"
   ]
  },
  {
   "cell_type": "code",
   "execution_count": null,
   "metadata": {},
   "outputs": [],
   "source": [
    "%timeit gamma_matrix(arr1, arr2)"
   ]
  },
  {
   "cell_type": "code",
   "execution_count": null,
   "metadata": {},
   "outputs": [],
   "source": [
    "import numexpr\n",
    "\n",
    "def gamma_matrix_expr(rm, tm, dta=1.0, dd=0.05):\n",
    "    '''Compute matrix of gammma indices.\n",
    "\n",
    "    :param rm: reference matrix (relative values assumed)\n",
    "    :param tm: tested matrix (relative values assumed)\n",
    "    :param dta: maximum distance-to-agreement (in voxels)\n",
    "    :param dd: maximum dose difference (absolute, not percent!)\n",
    "\n",
    "    :type rm: numpy.ndarray\n",
    "    :type tm: numpy.ndarray\n",
    "    :type dta: float\n",
    "    :type dd: float\n",
    "    :rtype: numpy.ndarray\n",
    "\n",
    "    It can be evaluated on matrices of any dimensionality.\n",
    "    '''\n",
    "    # Check validity of input\n",
    "    if rm.shape != tm.shape:\n",
    "        raise Exception(\"Cannot compute for matrices of different sizes.\")\n",
    "\n",
    "    # Result matrix\n",
    "    output = np.ndarray(rm.shape, dtype=np.float64)\n",
    "\n",
    "    # Help scaling variables\n",
    "    dta_scale = dta ** 2\n",
    "    dd_scale = dd ** 2\n",
    "\n",
    "    # Index matrices\n",
    "    indices = np.indices(rm.shape)\n",
    "\n",
    "    it = np.nditer(rm, (\"multi_index\",))\n",
    "    while not it.finished:\n",
    "        index = it.multi_index\n",
    "\n",
    "        # Dose difference to every point (squared)\n",
    "        dd2 = (tm - it.value) ** 2\n",
    "\n",
    "        # Distance to every point (squared)\n",
    "        dist2 = np.sum((indices - np.array(index).reshape(len(rm.shape),1,1,1)) ** 2, axis=0)\n",
    "\n",
    "        # Minimum of the sum\n",
    "        output[index] = np.sqrt(np.nanmin(numexpr.evaluate(\"dd2 / dd_scale + dist2 / dta_scale\")))\n",
    "        it.iternext()\n",
    "    return output"
   ]
  },
  {
   "cell_type": "code",
   "execution_count": null,
   "metadata": {},
   "outputs": [],
   "source": [
    "%timeit gamma_matrix_expr(arr1, arr2)"
   ]
  },
  {
   "cell_type": "code",
   "execution_count": null,
   "metadata": {
    "collapsed": true
   },
   "outputs": [],
   "source": [
    "@numba.jit\n",
    "def gamma_matrix_numba(rm, tm, dta=1.0, dd=0.05):\n",
    "    '''Compute matrix of gammma indices.\n",
    "\n",
    "    :param rm: reference matrix (relative values assumed)\n",
    "    :param tm: tested matrix (relative values assumed)\n",
    "    :param dta: maximum distance-to-agreement (in voxels)\n",
    "    :param dd: maximum dose difference (absolute, not percent!)\n",
    "\n",
    "    :type rm: numpy.ndarray\n",
    "    :type tm: numpy.ndarray\n",
    "    :type dta: float\n",
    "    :type dd: float\n",
    "    :rtype: numpy.ndarray\n",
    "\n",
    "    It can be evaluated on matrices of any dimensionality.\n",
    "    '''\n",
    "    # Check validity of input\n",
    "    if rm.shape != tm.shape:\n",
    "        raise Exception(\"Cannot compute for matrices of different sizes.\")\n",
    "\n",
    "    # Result matrix\n",
    "    output = np.ndarray(rm.shape, dtype=np.float64)\n",
    "\n",
    "    # Help scaling variables\n",
    "    dta_scale = dta ** 2\n",
    "    dd_scale = dd ** 2\n",
    "\n",
    "    # Index matrices\n",
    "    indices = np.indices(rm.shape)\n",
    "\n",
    "    it = np.nditer(rm, (\"multi_index\",))\n",
    "    while not it.finished:\n",
    "        index = it.multi_index\n",
    "\n",
    "        # Dose difference to every point (squared)\n",
    "        dd2 = (tm - it.value) ** 2\n",
    "\n",
    "        # Distance to every point (squared)\n",
    "        dist2 = np.sum((indices - np.array(index).reshape(len(rm.shape),1,1,1)) ** 2, axis=0)\n",
    "\n",
    "        # Minimum of the sum\n",
    "        output[index] = np.sqrt(np.nanmin(dd2 / dd_scale + dist2 / dta_scale))\n",
    "        it.iternext()\n",
    "    return output"
   ]
  },
  {
   "cell_type": "code",
   "execution_count": null,
   "metadata": {},
   "outputs": [],
   "source": [
    "%timeit gamma_matrix_numba(arr1, arr2)"
   ]
  },
  {
   "cell_type": "code",
   "execution_count": null,
   "metadata": {},
   "outputs": [],
   "source": [
    "%%cython --annotate\n",
    "import numpy as np\n",
    "cimport numpy as np\n",
    "\n",
    "def gamma_matrix_cython(np.ndarray rm, np.ndarray tm, double dta=1.0, double dd=0.05):\n",
    "    '''Compute matrix of gammma indices.\n",
    "\n",
    "    :param rm: reference matrix (relative values assumed)\n",
    "    :param tm: tested matrix (relative values assumed)\n",
    "    :param dta: maximum distance-to-agreement (in voxels)\n",
    "    :param dd: maximum dose difference (absolute, not percent!)\n",
    "\n",
    "    :type rm: numpy.ndarray\n",
    "    :type tm: numpy.ndarray\n",
    "    :type dta: float\n",
    "    :type dd: float\n",
    "    :rtype: numpy.ndarray\n",
    "\n",
    "    It can be evaluated on matrices of any dimensionality.\n",
    "    '''\n",
    "    # Check validity of input\n",
    "    if rm.shape != tm.shape:\n",
    "        raise Exception(\"Cannot compute for matrices of different sizes.\")\n",
    "\n",
    "    # Result matrix\n",
    "    cdef np.ndarray output = np.ndarray(rm.shape, dtype=np.float64)\n",
    "\n",
    "    # Help scaling variables\n",
    "    cdef double dta_scale = dta ** 2\n",
    "    cdef double dd_scale = dd ** 2\n",
    "\n",
    "    # Index matrices\n",
    "    cdef np.ndarray indices = np.indices(rm.shape)\n",
    "\n",
    "    it = np.nditer(rm, (\"multi_index\",))\n",
    "    while not it.finished:\n",
    "        index = it.multi_index\n",
    "\n",
    "        # Dose difference to every point (squared)\n",
    "        dd2 = (tm - it.value) ** 2\n",
    "\n",
    "        # Distance to every point (squared)\n",
    "        dist2 = np.sum((indices - np.array(index).reshape(len(rm.shape),1,1,1)) ** 2, axis=0)\n",
    "\n",
    "        # Minimum of the sum\n",
    "        output[index] = np.sqrt(np.nanmin(dd2 / dd_scale + dist2 / dta_scale))\n",
    "        it.iternext()\n",
    "    return output"
   ]
  },
  {
   "cell_type": "code",
   "execution_count": null,
   "metadata": {
    "collapsed": true
   },
   "outputs": [],
   "source": [
    "@numba.jit\n",
    "def gamma_matrix_numba2(rm, tm, dta=1.0, dd=0.05):\n",
    "    '''Compute matrix of gammma indices.\n",
    "\n",
    "    :param rm: reference matrix (relative values assumed)\n",
    "    :param tm: tested matrix (relative values assumed)\n",
    "    :param dta: maximum distance-to-agreement (in voxels)\n",
    "    :param dd: maximum dose difference (absolute, not percent!)\n",
    "\n",
    "    :type rm: numpy.ndarray\n",
    "    :type tm: numpy.ndarray\n",
    "    :type dta: float\n",
    "    :type dd: float\n",
    "    :rtype: numpy.ndarray\n",
    "\n",
    "    It can be evaluated on matrices of any dimensionality.\n",
    "    '''\n",
    "    # Check validity of input\n",
    "    if rm.shape != tm.shape:\n",
    "        raise Exception(\"Cannot compute for matrices of different sizes.\")\n",
    "\n",
    "    # Result matrix\n",
    "    output = np.ndarray(rm.shape, dtype=np.float64)\n",
    "\n",
    "    # Help scaling variables\n",
    "    dta_scale = dta ** 2\n",
    "    dd_scale = dd ** 2\n",
    "    \n",
    "    # Index matrices\n",
    "    indices = np.indices(rm.shape)\n",
    "\n",
    "    it = np.nditer(rm, (\"multi_index\",))\n",
    "    while not it.finished:\n",
    "        index = it.multi_index\n",
    "\n",
    "        # Dose difference to every point (squared)\n",
    "        dd2 = (tm - it.value) ** 2\n",
    "\n",
    "        # Distance to every point (squared)\n",
    "        dist2 = np.sum((indices - np.array(index).reshape(len(rm.shape),1,1,1)) ** 2, axis=0)\n",
    "\n",
    "        # Minimum of the sum\n",
    "        output[index] = np.sqrt(np.nanmin(dd2 / dd_scale + dist2 / dta_scale))\n",
    "        it.iternext()\n",
    "    return output"
   ]
  },
  {
   "cell_type": "code",
   "execution_count": null,
   "metadata": {},
   "outputs": [],
   "source": [
    "%%cython"
   ]
  },
  {
   "cell_type": "code",
   "execution_count": null,
   "metadata": {
    "collapsed": true
   },
   "outputs": [],
   "source": [
    "import ctypes\n",
    "dll = ctypes.CDLL(\"../gamma_index/libgamma.so\")\n",
    "gamma_index_f = dll.gamma_index\n",
    "\n",
    "def gamma_matrix_c(rm, tm, dta=1.0, dd=0.05):\n",
    "    '''Compute matrix of gammma indices.\n",
    "\n",
    "    :param rm: reference matrix (relative values assumed)\n",
    "    :param tm: tested matrix (relative values assumed)\n",
    "    :param dta: maximum distance-to-agreement (in voxels)\n",
    "    :param dd: maximum dose difference (absolute, not percent!)\n",
    "\n",
    "    :type rm: numpy.ndarray\n",
    "    :type tm: numpy.ndarray\n",
    "    :type dta: float\n",
    "    :type dd: float\n",
    "    :rtype: numpy.ndarray\n",
    "\n",
    "    It can be evaluated on matrices of any dimensionality.\n",
    "    '''\n",
    "    # Check validity of input\n",
    "    if rm.shape != tm.shape:\n",
    "        raise Exception(\"Cannot compute for matrices of different sizes.\")\n",
    "\n",
    "    matrix1 = np.ascontiguousarray(rm)\n",
    "    matrix2 = np.ascontiguousarray(tm)\n",
    "    output = np.ndarray(rm.shape, dtype=np.float64)\n",
    "    \n",
    "    p_matrix1 = matrix1.ctypes.data_as(ctypes.POINTER(ctypes.c_double))\n",
    "    p_matrix2 = matrix2.ctypes.data_as(ctypes.POINTER(ctypes.c_double))\n",
    "    p_output = output.ctypes.data_as(ctypes.POINTER(ctypes.c_double))\n",
    "    \n",
    "    c_shape = matrix1.ctypes.shape_as(ctypes.c_int)\n",
    "    c_dd = ctypes.c_double(dd)\n",
    "    c_dta = ctypes.c_double(dta)\n",
    "    \n",
    "    gamma_index_f(len(matrix1.shape), c_shape, p_matrix1, p_matrix2, p_output, c_dd, c_dta)\n",
    "    \n",
    "    return output"
   ]
  },
  {
   "cell_type": "code",
   "execution_count": null,
   "metadata": {},
   "outputs": [],
   "source": [
    "%timeit gamma_matrix_c(arr1, arr2)"
   ]
  },
  {
   "cell_type": "code",
   "execution_count": null,
   "metadata": {},
   "outputs": [],
   "source": [
    "%timeit gamma_matrix(arr1, arr2)"
   ]
  },
  {
   "cell_type": "code",
   "execution_count": null,
   "metadata": {
    "collapsed": true
   },
   "outputs": [],
   "source": [
    "arr1001 = np.random.rand(20, 20, 20)\n",
    "arr1002 = np.random.rand(20, 20, 20)"
   ]
  },
  {
   "cell_type": "code",
   "execution_count": null,
   "metadata": {},
   "outputs": [],
   "source": [
    "%timeit gamma_matrix_c(arr1001, arr1002)"
   ]
  },
  {
   "cell_type": "code",
   "execution_count": null,
   "metadata": {},
   "outputs": [],
   "source": [
    "%timeit gamma_matrix(arr1001, arr1002)"
   ]
  },
  {
   "cell_type": "code",
   "execution_count": null,
   "metadata": {},
   "outputs": [],
   "source": [
    "arr401 = np.random.rand(40, 40, 40)\n",
    "arr402 = np.random.rand(40, 40, 40)"
   ]
  },
  {
   "cell_type": "code",
   "execution_count": null,
   "metadata": {},
   "outputs": [],
   "source": [
    "%timeit gamma_matrix_c(arr401, arr402)"
   ]
  },
  {
   "cell_type": "code",
   "execution_count": null,
   "metadata": {},
   "outputs": [],
   "source": [
    "%timeit gamma_matrix_numba(arr401, arr402)"
   ]
  },
  {
   "cell_type": "code",
   "execution_count": null,
   "metadata": {},
   "outputs": [],
   "source": [
    "%timeit gamma_matrix(arr401, arr402)"
   ]
  },
  {
   "cell_type": "code",
   "execution_count": null,
   "metadata": {},
   "outputs": [],
   "source": [
    "gamma_matrix(arr1001, arr1002)[12][11]"
   ]
  },
  {
   "cell_type": "code",
   "execution_count": null,
   "metadata": {},
   "outputs": [],
   "source": [
    "gamma_matrix_c(arr1001, arr1002)[12][11]"
   ]
  },
  {
   "cell_type": "code",
   "execution_count": null,
   "metadata": {},
   "outputs": [],
   "source": [
    "gamma_matrix(arr1001, arr1002)[12][11] - gamma_matrix_c(arr1001, arr1002)[12][11]"
   ]
  }
 ],
 "metadata": {
  "kernelspec": {
   "display_name": "Python [default]",
   "language": "python",
   "name": "python3"
  },
  "language_info": {
   "codemirror_mode": {
    "name": "ipython",
    "version": 3
   },
   "file_extension": ".py",
   "mimetype": "text/x-python",
   "name": "python",
   "nbconvert_exporter": "python",
   "pygments_lexer": "ipython3",
   "version": "3.5.2"
  }
 },
 "nbformat": 4,
 "nbformat_minor": 1
}
